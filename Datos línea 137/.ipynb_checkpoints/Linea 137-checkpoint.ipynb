{
 "cells": [
  {
   "cell_type": "code",
   "execution_count": 1,
   "metadata": {},
   "outputs": [],
   "source": [
    "import pandas as pd\n",
    "data = pd.read_csv(\"datoscsv/llamados_137_12-2020.csv\")\n"
   ]
  },
  {
   "cell_type": "code",
   "execution_count": 2,
   "metadata": {},
   "outputs": [],
   "source": [
    "import matplotlib.pyplot as plt"
   ]
  },
  {
   "cell_type": "code",
   "execution_count": 3,
   "metadata": {
    "collapsed": true
   },
   "outputs": [
    {
     "data": {
      "text/plain": [
       "(620, 55)"
      ]
     },
     "execution_count": 3,
     "metadata": {},
     "output_type": "execute_result"
    }
   ],
   "source": [
    "data.shape              #TAMAÑO"
   ]
  },
  {
   "cell_type": "code",
   "execution_count": 4,
   "metadata": {
    "collapsed": true
   },
   "outputs": [
    {
     "name": "stdout",
     "output_type": "stream",
     "text": [
      "caso_id                                      620\n",
      "llamado_fecha_hora                           620\n",
      "llamado_provincia                            620\n",
      "llamante_edad                                620\n",
      "llamante_genero                              620\n",
      "llamante_vinculo                             620\n",
      "caso_judicializado                           620\n",
      "hecho_lugar                                  620\n",
      "victima_a_resguardo                          620\n",
      "victima_edad                                 620\n",
      "victima_genero                               620\n",
      "victima_nacionalidad                         620\n",
      "victima_vinculo_agresor                      620\n",
      "victima_discapacidad                         620\n",
      "victima_convive_agresor                      620\n",
      "vs_violacion_via_vaginal                     620\n",
      "vs_violacion_via_anal                        620\n",
      "vs_violacion_via_oral                        620\n",
      "vs_tentativa_violacion                       620\n",
      "vs_tocamiento_sexual                         620\n",
      "vs_intento_tocamiento                        620\n",
      "vs_Intento_violación_tercera_persona         620\n",
      "vs_grooming                                  620\n",
      "vs_exhibicionismo                            620\n",
      "vs_amenazas_verbales_contenido_sexual        620\n",
      "vs_explotacion_sexual                        620\n",
      "vs_explotacion_sexual_comercial              620\n",
      "vs_explotacion_sexual_viajes_turismo         620\n",
      "vs_sospecha_trata_personas_fines_sexuales    620\n",
      "vs_existencia_facilitador_corrupcion_nnya    620\n",
      "vs_obligacion_sacarse_fotos_pornograficas    620\n",
      "vs_eyaculacion_partes_cuerpo                 620\n",
      "vs_acoso_sexual                              620\n",
      "vs_iniciacion_sexual_forzada_inducida        620\n",
      "vs_otra_forma_violencia_sexual               620\n",
      "vs_no_sabe_no_contesta                       620\n",
      "ofv_sentimiento_amenaza                      620\n",
      "ofv_amenaza_explicita                        620\n",
      "ofv_violencia_fisica                         620\n",
      "ofv_intento_ahorcar                          620\n",
      "ofv_intento_quemar                           620\n",
      "ofv_intento_ahogar                           620\n",
      "ofv_amenaza_muerte                           620\n",
      "ofv_uso_sustancias_psicoactivas              620\n",
      "ofv_intento_privacion_libertad               620\n",
      "ofv_privacion_libertad                       620\n",
      "ofv_uso_arma_blanca                          620\n",
      "ofv_uso_arma_fuego                           620\n",
      "ofv_enganio_seduccion                        620\n",
      "ofv_intento_matar                            620\n",
      "ofv_uso_animal_victimizar                    620\n",
      "ofv_grooming                                 620\n",
      "ofv_otra_forma_violencia                     620\n",
      "ofv_no_sabe_no_contesta                      620\n",
      "llamado_provincia_id                         420\n",
      "dtype: int64\n"
     ]
    }
   ],
   "source": [
    "print (data.count())    #COLUMNAS"
   ]
  },
  {
   "cell_type": "code",
   "execution_count": 5,
   "metadata": {},
   "outputs": [],
   "source": [
    "data=data.drop(['llamante_genero','llamado_fecha_hora','llamado_provincia_id','llamante_edad','llamante_vinculo', 'victima_a_resguardo','victima_nacionalidad','victima_discapacidad','vs_Intento_violación_tercera_persona','vs_explotacion_sexual_viajes_turismo','vs_sospecha_trata_personas_fines_sexuales','vs_existencia_facilitador_corrupcion_nnya','vs_obligacion_sacarse_fotos_pornograficas','ofv_intento_quemar','vs_amenazas_verbales_contenido_sexual','vs_eyaculacion_partes_cuerpo','vs_iniciacion_sexual_forzada_inducida','vs_explotacion_sexual_comercial','ofv_intento_ahorcar','ofv_intento_quemar','ofv_intento_ahogar','ofv_intento_ahogar','ofv_uso_arma_blanca','ofv_uso_arma_fuego','ofv_intento_matar','ofv_uso_animal_victimizar'],axis=1)\n",
    "#BORRO Columnas innecesarias"
   ]
  },
  {
   "cell_type": "code",
   "execution_count": 6,
   "metadata": {},
   "outputs": [],
   "source": [
    "data = data.drop_duplicates(data.columns[~data.columns.isin(['caso_id'])],keep='first')\n",
    "#BORRO las filas duplicadas según 'caso_id'. Conservo solo la primera."
   ]
  },
  {
   "cell_type": "code",
   "execution_count": 7,
   "metadata": {},
   "outputs": [
    {
     "data": {
      "text/plain": [
       "0    Conocido no familiar\n",
       "1             Desconocido\n",
       "2             Desconocido\n",
       "3                    Otro\n",
       "4                    Otro\n",
       "Name: victima_vinculo_agresor, dtype: object"
      ]
     },
     "execution_count": 7,
     "metadata": {},
     "output_type": "execute_result"
    }
   ],
   "source": [
    "#Comienzo a estandarizar los datos. (Todo lo empezado con 'd_' es un diccionario.)\n",
    "\n",
    "d_vinculo_agresor = {'NS/NC':'Otro','Conocido no familiar (Amigo, vecino, entre otros)':'Conocido no familiar', 'Desconocido':'Desconocido', 'Padre':'Padre', 'Padrastro':'Padrastro', 'Otro pariente':'Otro pariente', 'Abuelo':'Abuelo', 'Tío':'Tío', 'Ex pareja de la víctima':'Ex pareja de la víctima', 'Pareja de la vícitma':'Pareja de la vícitma', 'Hermano':'Hermano','Abuela':'Abuela', 'Madre':'Madre', 'Hermana':'Hermana'}\n",
    "data[\"victima_vinculo_agresor\"]=data[\"victima_vinculo_agresor\"].apply(lambda x:d_vinculo_agresor[x])\n",
    "data.victima_vinculo_agresor.head()\n",
    "#CAMBIO NS/NC==otro EN victima_vinculo_agresor "
   ]
  },
  {
   "cell_type": "code",
   "execution_count": 8,
   "metadata": {
    "collapsed": true
   },
   "outputs": [
    {
     "data": {
      "text/plain": [
       "0    Vivienda de la Víctima\n",
       "1            Redes Sociales\n",
       "2            Redes Sociales\n",
       "3            Redes Sociales\n",
       "4                      Otro\n",
       "Name: hecho_lugar, dtype: object"
      ]
     },
     "execution_count": 8,
     "metadata": {},
     "output_type": "execute_result"
    }
   ],
   "source": [
    "d_hecho_lugar = {'Vivienda de la Víctima':'Vivienda de la Víctima', 'Redes Sociales':'Redes Sociales', 'NS/NC':'Otro',\n",
    "       'Vivienda del Agresor':'Vivienda del Agresor', 'Otro(Especificar en observaciones)':'Otro',\n",
    "       'Comercio':'Comercio', 'Vivienda de un familiar':'Vivienda de un familiar', 'Calle':'Calle', 'Plaza':'Calle',\n",
    "       'Subterráneo/Tren/Colectivo':'Transporte público', 'Ámbito educativo':'Ámbito educativo', 'Taxi':'Transporte público',\n",
    "       'Descampado':'Descampado', 'Automóvil':'Automovil'}\n",
    "data[\"hecho_lugar\"]=data[\"hecho_lugar\"].apply(lambda x:d_hecho_lugar[x])\n",
    "data.hecho_lugar.head()\n",
    "# CAMBIO NS/NC==Otro, UNIFICO Plaza y Calle==Calle,  Subte/tren/colectivo y taxi==Transporte público  EN hecho_lugar"
   ]
  },
  {
   "cell_type": "code",
   "execution_count": null,
   "metadata": {},
   "outputs": [],
   "source": [
    "d_victima_edad = {'5':'5', '14':'14', '15':'15', '12':'12', 'Sin dato':'-1', '13':'13', '16':'16', '10':'10', '17':'17', '8':'8',\n",
    "       '19':'19', '34':'34', '11':'11', '39':'39', '3':'3', '24':'24', '9':'9', '6':'6', '26':'26', '20':'20', '4':'4', '21':'21',\n",
    "       '23':'23', '40':'40', '30':'30', '25':'25', '18':'18', '27':'27', '32':'32', '33':'33', '28':'28', '7':'7', '37':'37',\n",
    "       '22':'22', '31':'31', '29':'29', '35':'35', '42':'42', '41':'41', '1':'1', '2':'2', '43':'43', '36':'36', '47':'47',\n",
    "       '46':'46', '59':'59', '0':'0'}\n",
    "data['victima_edad']=data['victima_edad'].apply(lambda x:d_victima_edad[x])\n",
    "data.victima_edad.head(20)\n",
    "# CAMBIO Sin Dato== -1 en victima_edad. De esta manera podré trabajar con n° enteros, interpretando -1 como 'Sin dato'.\n",
    "\n",
    "#Convierto el DATATYPE de la columna victima_edad ( de object --> int). Para poder trabajar numeros enteros\n",
    "data['victima_edad']=data['victima_edad'].astype(str).astype(int)\n",
    "data['victima_edad'].describe()"
   ]
  },
  {
   "cell_type": "code",
   "execution_count": null,
   "metadata": {},
   "outputs": [],
   "source": [
    "d_victima_genero={'Femenino':'Femenino','Masculino':'Masculino','Ns/Nc':'Sin Dato','Transgénero':'Transgénero'}\n",
    "data['victima_genero']=data['victima_genero'].apply(lambda x:d_victima_genero[x])\n",
    "data.victima_genero.head(20)\n",
    "\n"
   ]
  },
  {
   "cell_type": "code",
   "execution_count": null,
   "metadata": {},
   "outputs": [],
   "source": [
    "data = data.drop(data[data['llamado_provincia']=='NS/NC'].index)\n",
    "data.shape\n",
    "#BORRO Filas que tengan 'NS/NC' en la columna provincia.\n"
   ]
  },
  {
   "cell_type": "code",
   "execution_count": null,
   "metadata": {},
   "outputs": [],
   "source": [
    "data = data.drop(data[data['victima_genero']=='Sin Dato'].index)\n",
    "data.shape\n",
    "#BORRO Filas que tengan 'Sin Dato' en la columna victima_genero"
   ]
  },
  {
   "cell_type": "code",
   "execution_count": null,
   "metadata": {},
   "outputs": [],
   "source": [
    "import numpy as np"
   ]
  },
  {
   "cell_type": "code",
   "execution_count": null,
   "metadata": {},
   "outputs": [],
   "source": [
    "victima_genero_count=data.groupby('victima_genero')['victima_edad'].count()\n",
    "print(victima_genero_count)\n",
    "victima_genero_count.plot(kind='bar')"
   ]
  },
  {
   "cell_type": "code",
   "execution_count": null,
   "metadata": {},
   "outputs": [],
   "source": [
    "data.head(25)"
   ]
  },
  {
   "cell_type": "code",
   "execution_count": null,
   "metadata": {},
   "outputs": [],
   "source": []
  }
 ],
 "metadata": {
  "kernelspec": {
   "display_name": "Python 3",
   "language": "python",
   "name": "python3"
  },
  "language_info": {
   "codemirror_mode": {
    "name": "ipython",
    "version": 3
   },
   "file_extension": ".py",
   "mimetype": "text/x-python",
   "name": "python",
   "nbconvert_exporter": "python",
   "pygments_lexer": "ipython3",
   "version": "3.8.5"
  }
 },
 "nbformat": 4,
 "nbformat_minor": 4
}
